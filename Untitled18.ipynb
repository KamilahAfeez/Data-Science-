{
  "nbformat": 4,
  "nbformat_minor": 0,
  "metadata": {
    "colab": {
      "provenance": [],
      "authorship_tag": "ABX9TyOG1yFjS9Jk+XrpBc8TQm1B",
      "include_colab_link": true
    },
    "kernelspec": {
      "name": "python3",
      "display_name": "Python 3"
    },
    "language_info": {
      "name": "python"
    }
  },
  "cells": [
    {
      "cell_type": "markdown",
      "metadata": {
        "id": "view-in-github",
        "colab_type": "text"
      },
      "source": [
        "<a href=\"https://colab.research.google.com/github/KamilahAfeez/Data-Science-/blob/main/Untitled18.ipynb\" target=\"_parent\"><img src=\"https://colab.research.google.com/assets/colab-badge.svg\" alt=\"Open In Colab\"/></a>"
      ]
    },
    {
      "cell_type": "code",
      "execution_count": 1,
      "metadata": {
        "id": "H22MSalKo1ci"
      },
      "outputs": [],
      "source": [
        "import numpy as np"
      ]
    },
    {
      "cell_type": "code",
      "source": [
        "data_types=[('name','S15'),('class',int),('height',float)]\n",
        "student_details=[('James',6,48.5),('Susan',9,53.7),('Mubarak',8,78.8),('Anthony',5,98.7),('Faruq',5,50.5)]\n",
        "students=np.array(student_details,dtype=data_types)\n",
        "print(students)"
      ],
      "metadata": {
        "colab": {
          "base_uri": "https://localhost:8080/"
        },
        "id": "umnlUHJCpSiV",
        "outputId": "9ff16b03-7e66-488e-f1ef-d17cc3bf4984"
      },
      "execution_count": 3,
      "outputs": [
        {
          "output_type": "stream",
          "name": "stdout",
          "text": [
            "[(b'James', 6, 48.5) (b'Susan', 9, 53.7) (b'Mubarak', 8, 78.8)\n",
            " (b'Anthony', 5, 98.7) (b'Faruq', 5, 50.5)]\n"
          ]
        }
      ]
    },
    {
      "cell_type": "code",
      "source": [
        "print(np.sort(students,order='height'))"
      ],
      "metadata": {
        "colab": {
          "base_uri": "https://localhost:8080/"
        },
        "id": "hPn6RfDcshJQ",
        "outputId": "c4b12dd6-fbf6-4b90-bfa3-76a61d0d1d14"
      },
      "execution_count": 4,
      "outputs": [
        {
          "output_type": "stream",
          "name": "stdout",
          "text": [
            "[(b'James', 6, 48.5) (b'Faruq', 5, 50.5) (b'Susan', 9, 53.7)\n",
            " (b'Mubarak', 8, 78.8) (b'Anthony', 5, 98.7)]\n"
          ]
        }
      ]
    },
    {
      "cell_type": "code",
      "source": [
        "print(np.sort(students,order='class'))"
      ],
      "metadata": {
        "colab": {
          "base_uri": "https://localhost:8080/"
        },
        "id": "DzuZGV_6tPsV",
        "outputId": "8a84be03-74ed-45e0-82df-21c1782fd394"
      },
      "execution_count": 5,
      "outputs": [
        {
          "output_type": "stream",
          "name": "stdout",
          "text": [
            "[(b'Anthony', 5, 98.7) (b'Faruq', 5, 50.5) (b'James', 6, 48.5)\n",
            " (b'Mubarak', 8, 78.8) (b'Susan', 9, 53.7)]\n"
          ]
        }
      ]
    }
  ]
}